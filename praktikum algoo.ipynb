{
 "cells": [
  {
   "cell_type": "code",
   "execution_count": 4,
   "id": "8b9b9969-c9b1-4475-bf52-4971ab30496e",
   "metadata": {},
   "outputs": [
    {
     "name": "stdin",
     "output_type": "stream",
     "text": [
      "Nilai A:  1\n",
      "Nilai B:  6\n",
      "Nilai C:  6\n"
     ]
    },
    {
     "name": "stdout",
     "output_type": "stream",
     "text": [
      "Persamaan kuadrat: 1.0x^2 + 6.0x + 6.0\n",
      "Diskriminan: 12.0\n",
      "Merupakan akar berbeda\n",
      "x1 = -1.2679491924311228\n",
      "x2 = -4.732050807568877\n"
     ]
    }
   ],
   "source": [
    "import math\n",
    "\n",
    "# Function to find the roots of the quadratic equation\n",
    "def find_roots(a, b, c):\n",
    "    # Calculate discriminant\n",
    "    discriminant = b**2 - 4*a*c\n",
    "    print(f\"Persamaan kuadrat: {a}x^2 + {b}x + {c}\")\n",
    "    print(f\"Diskriminan: {discriminant}\")\n",
    "    \n",
    "    # Check if discriminant is positive, zero or negative\n",
    "    if discriminant > 0:\n",
    "        # Two distinct real roots\n",
    "        root1 = (-b + math.sqrt(discriminant)) / (2 * a)\n",
    "        root2 = (-b - math.sqrt(discriminant)) / (2 * a)\n",
    "        print(\"Merupakan akar berbeda\")\n",
    "        print(f\"x1 = {root1}\")\n",
    "        print(f\"x2 = {root2}\")\n",
    "    elif discriminant == 0:\n",
    "        # One repeated real root\n",
    "        root = -b / (2 * a)\n",
    "        print(\"Merupakan akar kembar\")\n",
    "        print(f\"akar = {root}\")\n",
    "    else:\n",
    "        # Complex roots\n",
    "        real_part = -b / (2 * a)\n",
    "        imaginary_part = math.sqrt(-discriminant) / (2 * a)\n",
    "        print(\"Merupakan akar kompleks\")\n",
    "        print(f\"x1 = {real_part} + {imaginary_part}i\")\n",
    "        print(f\"x2 = {real_part} - {imaginary_part}i\")\n",
    "\n",
    "# Input values for the quadratic equation\n",
    "A = float(input(\"Nilai A: \"))\n",
    "B = float(input(\"Nilai B: \"))\n",
    "C = float(input(\"Nilai C: \"))\n",
    "\n",
    "# Call the function to calculate roots\n",
    "find_roots(A, B, C)"
   ]
  },
  {
   "cell_type": "code",
   "execution_count": null,
   "id": "a3752b6c-5776-4dcf-8c35-dd2fd66132a2",
   "metadata": {},
   "outputs": [],
   "source": []
  },
  {
   "cell_type": "code",
   "execution_count": null,
   "id": "c2ae9c4d-e34d-482f-8aed-7c33d2c1f988",
   "metadata": {},
   "outputs": [],
   "source": []
  }
 ],
 "metadata": {
  "kernelspec": {
   "display_name": "Python 3 (ipykernel)",
   "language": "python",
   "name": "python3"
  },
  "language_info": {
   "codemirror_mode": {
    "name": "ipython",
    "version": 3
   },
   "file_extension": ".py",
   "mimetype": "text/x-python",
   "name": "python",
   "nbconvert_exporter": "python",
   "pygments_lexer": "ipython3",
   "version": "3.12.4"
  }
 },
 "nbformat": 4,
 "nbformat_minor": 5
}
